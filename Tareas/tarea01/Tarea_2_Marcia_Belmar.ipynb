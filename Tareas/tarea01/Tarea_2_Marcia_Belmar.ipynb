{
  "cells": [
    {
      "cell_type": "code",
      "execution_count": null,
      "metadata": {
        "id": "5pRrZVTq4-Hw"
      },
      "outputs": [],
      "source": [
        "# Imprimir los números del -100 al 200\n",
        "for numero in range(-100, 201):\n",
        "    print(numero)\n"
      ]
    },
    {
      "cell_type": "code",
      "execution_count": null,
      "metadata": {
        "id": "OlZyhy_N5JT2"
      },
      "outputs": [],
      "source": [
        "# Imprimir los números del -100 al 200 que son divisibles por 6\n",
        "for numero in range(-100, 201):\n",
        "    if numero % 6 == 0:\n",
        "        print(numero)"
      ]
    },
    {
      "cell_type": "code",
      "execution_count": 11,
      "metadata": {
        "colab": {
          "base_uri": "https://localhost:8080/"
        },
        "id": "kTKQbmVv6I_z",
        "outputId": "73063074-614e-41b6-a62c-3b67870ea181"
      },
      "outputs": [
        {
          "name": "stdout",
          "output_type": "stream",
          "text": [
            "Ingrese el primer número: 20\n",
            "Ingrese el segundo número: 50\n",
            "El resultado es menor a 200.\n"
          ]
        }
      ],
      "source": [
        "# Leer los dos números desde el usuario\n",
        "numero1 = float(input(\"Ingrese el primer número: \"))\n",
        "numero2 = float(input(\"Ingrese el segundo número: \"))\n",
        "\n",
        "# Calcular la suma de los dos números\n",
        "suma = numero1 + numero2\n",
        "\n",
        "# Comparar la suma con las condiciones dadas y mostrar el resultado\n",
        "if suma < 200:\n",
        "    print(\"El resultado es menor a 200.\")\n",
        "elif 200 <= suma < 250:\n",
        "    print(\"El resultado es mayor a 200 pero menor a 250.\")\n",
        "else:\n",
        "    print(\"El resultado es mayor a 250.\")"
      ]
    },
    {
      "cell_type": "code",
      "execution_count": 12,
      "metadata": {
        "colab": {
          "base_uri": "https://localhost:8080/"
        },
        "id": "F7aorCtE6ZL0",
        "outputId": "a5b30620-3b8b-49fd-cad8-0f2c3ac2abeb"
      },
      "outputs": [
        {
          "name": "stdout",
          "output_type": "stream",
          "text": [
            "¿Cuál es tu edad? 20\n",
            "¿Te gusta la música urbana? (responde sí o no): sí\n",
            "Eres mayor de edad y te gusta la música urbana\n"
          ]
        }
      ],
      "source": [
        "# Definir una función para evaluar la edad y preferencia musical del usuario\n",
        "def evaluar_usuario(edad, gusta_musica_urbana):\n",
        "    if edad > 18 and gusta_musica_urbana == True:\n",
        "        resultado = \"Eres mayor de edad y te gusta la música urbana\"\n",
        "    else:\n",
        "        resultado = \"No eres mayor de edad o no te gusta la música urbana\"\n",
        "    return resultado\n",
        "\n",
        "# Solicitar al usuario su edad y si le gusta la música urbana\n",
        "edad = int(input(\"¿Cuál es tu edad? \"))\n",
        "gusta_musica_urbana = input(\"¿Te gusta la música urbana? (responde sí o no): \").lower() == \"sí\"\n",
        "\n",
        "# Llamar a la función y mostrar el resultado\n",
        "print(evaluar_usuario(edad, gusta_musica_urbana))\n"
      ]
    }
  ],
  "metadata": {
    "colab": {
      "provenance": []
    },
    "kernelspec": {
      "display_name": "Python 3",
      "name": "python3"
    },
    "language_info": {
      "name": "python"
    }
  },
  "nbformat": 4,
  "nbformat_minor": 0
}
